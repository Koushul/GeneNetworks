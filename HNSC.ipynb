{
 "cells": [
  {
   "cell_type": "code",
   "execution_count": 86,
   "metadata": {},
   "outputs": [],
   "source": [
    "import pandas as pd\n",
    "import numpy as np\n",
    "from pathlib import Path\n",
    "from pandas import read_table\n",
    "from pylab import rcParams\n",
    "import seaborn as sns\n",
    "from collections import Counter\n",
    "import matplotlib.pyplot as plt\n",
    "from IPython.display import Image\n",
    "from IPython.core.display import HTML \n",
    "from matplotlib.pyplot import figure\n",
    "import warnings\n",
    "import datetime\n",
    "from scipy.stats import chi2_contingency\n",
    "from pqdm.processes import pqdm\n",
    "warnings.filterwarnings('ignore')"
   ]
  },
  {
   "cell_type": "code",
   "execution_count": 87,
   "metadata": {},
   "outputs": [],
   "source": [
    "class Logbook(object):\n",
    "    def __init__(self, name):\n",
    "        self.name = name\n",
    "        self.notes = []\n",
    "        self.params = {}\n",
    "        print(f'Logbook ~{name}~ created.')\n",
    "    \n",
    "    def log(self, note, category='misc'):\n",
    "        self.notes.append((category, note))\n",
    "        \n",
    "    def retrieve(self, category=None):\n",
    "        df = pd.DataFrame(self.notes, columns = ['category', 'note'])\n",
    "        if category:\n",
    "            return df[df.category==category]\n",
    "        else:\n",
    "            return df\n",
    "        \n",
    "    def log_param(self, name, param):\n",
    "        self.params[name] = param\n",
    "    \n",
    "    def __len__(self):\n",
    "        return len(self.notes)"
   ]
  },
  {
   "cell_type": "code",
   "execution_count": 88,
   "metadata": {},
   "outputs": [
    {
     "name": "stdout",
     "output_type": "stream",
     "text": [
      "Logbook ~PerturbNet-HNSC~ created.\n"
     ]
    }
   ],
   "source": [
    "logbook = Logbook('PerturbNet-HNSC')"
   ]
  },
  {
   "cell_type": "markdown",
   "metadata": {},
   "source": [
    "## Goal: Learn a three-layer network from Z (traits), Y (gene expressions), and X (SNP data).\n",
    "\n",
    "Z: array of shape (n, r)\n",
    "            \n",
    "    The data matrix with n samples and r traits. ==>> traits\n",
    "        \n",
    "Y: array of shape (n_o, q)\n",
    "    \n",
    "    The data matrix with n_o samples and q genes. ==>> expression\n",
    "\n",
    "X: array of shape (n, p) \n",
    "    ==>> mutations "
   ]
  },
  {
   "cell_type": "markdown",
   "metadata": {},
   "source": [
    "_________"
   ]
  },
  {
   "cell_type": "code",
   "execution_count": 89,
   "metadata": {},
   "outputs": [],
   "source": [
    "cbioportal_datahub = 'https://github.com/cBioPortal/datahub/tree/master/public'"
   ]
  },
  {
   "cell_type": "code",
   "execution_count": 90,
   "metadata": {},
   "outputs": [],
   "source": [
    "special_genes = \"\"\"\n",
    "RELA\n",
    "PBX1\n",
    "SPI1\n",
    "HIVEP1\n",
    "MXI1\n",
    "TBX19\n",
    "DNMT1\n",
    "SMARCC1\n",
    "ZNF410\n",
    "HMBOX1\n",
    "TFEB\n",
    "HINFP\n",
    "NFYA\n",
    "BPTF\n",
    "CREB1\n",
    "AR\n",
    "STAT6\n",
    "TERT\n",
    "\"\"\".split()"
   ]
  },
  {
   "cell_type": "code",
   "execution_count": 91,
   "metadata": {},
   "outputs": [],
   "source": [
    "# Gene Expression Differences Associated with Human Papillomavirus Status in Head and Neck Squamous Cell Carcinoma\n",
    "# https://clincancerres.aacrjournals.org/content/12/3/701\n",
    "data_tables = pd.read_html('https://clincancerres.aacrjournals.org/content/12/3/701.figures-only')\n",
    "known_genes = data_tables[2]['HUGO ID'].dropna().values.reshape(-1, )"
   ]
  },
  {
   "cell_type": "markdown",
   "metadata": {},
   "source": [
    "_____________"
   ]
  },
  {
   "cell_type": "code",
   "execution_count": 92,
   "metadata": {},
   "outputs": [],
   "source": [
    "root_dir = Path('/ihome/hosmanbeyoglu/kor11/tools/PerturbNet/TCGA')\n",
    "cancer = 'HNSC'\n",
    "logbook.log_param('cancer', cancer)"
   ]
  },
  {
   "cell_type": "code",
   "execution_count": 93,
   "metadata": {},
   "outputs": [],
   "source": [
    "expression_url = 'https://media.githubusercontent.com/media/cBioPortal/datahub/master/public/hnsc_tcga_pan_can_atlas_2018/data_mrna_seq_v2_rsem.txt'\n",
    "phenotype_url = 'https://media.githubusercontent.com/media/cBioPortal/datahub/master/public/hnsc_tcga_pan_can_atlas_2018/data_clinical_patient.txt'\n",
    "genotype_url = 'https://media.githubusercontent.com/media/cBioPortal/datahub/master/public/hnsc_tcga_pan_can_atlas_2018/data_mutations.txt'"
   ]
  },
  {
   "cell_type": "code",
   "execution_count": 94,
   "metadata": {},
   "outputs": [],
   "source": [
    "rnaseq = pd.read_table(expression_url)\n",
    "clinical = pd.read_table(phenotype_url)\n",
    "mutations = pd.read_table(genotype_url)"
   ]
  },
  {
   "cell_type": "code",
   "execution_count": 95,
   "metadata": {},
   "outputs": [
    {
     "data": {
      "text/html": [
       "<div>\n",
       "<style scoped>\n",
       "    .dataframe tbody tr th:only-of-type {\n",
       "        vertical-align: middle;\n",
       "    }\n",
       "\n",
       "    .dataframe tbody tr th {\n",
       "        vertical-align: top;\n",
       "    }\n",
       "\n",
       "    .dataframe thead th {\n",
       "        text-align: right;\n",
       "    }\n",
       "</style>\n",
       "<table border=\"1\" class=\"dataframe\">\n",
       "  <thead>\n",
       "    <tr style=\"text-align: right;\">\n",
       "      <th></th>\n",
       "      <th>hpv</th>\n",
       "    </tr>\n",
       "  </thead>\n",
       "  <tbody>\n",
       "    <tr>\n",
       "      <th>TCGA-4P-AA8J</th>\n",
       "      <td>0</td>\n",
       "    </tr>\n",
       "    <tr>\n",
       "      <th>TCGA-BA-4074</th>\n",
       "      <td>0</td>\n",
       "    </tr>\n",
       "    <tr>\n",
       "      <th>TCGA-BA-4076</th>\n",
       "      <td>0</td>\n",
       "    </tr>\n",
       "    <tr>\n",
       "      <th>TCGA-BA-4078</th>\n",
       "      <td>0</td>\n",
       "    </tr>\n",
       "    <tr>\n",
       "      <th>TCGA-BA-5149</th>\n",
       "      <td>0</td>\n",
       "    </tr>\n",
       "    <tr>\n",
       "      <th>...</th>\n",
       "      <td>...</td>\n",
       "    </tr>\n",
       "    <tr>\n",
       "      <th>TCGA-UF-A7JT</th>\n",
       "      <td>0</td>\n",
       "    </tr>\n",
       "    <tr>\n",
       "      <th>TCGA-UF-A7JV</th>\n",
       "      <td>0</td>\n",
       "    </tr>\n",
       "    <tr>\n",
       "      <th>TCGA-UP-A6WW</th>\n",
       "      <td>1</td>\n",
       "    </tr>\n",
       "    <tr>\n",
       "      <th>TCGA-WA-A7GZ</th>\n",
       "      <td>0</td>\n",
       "    </tr>\n",
       "    <tr>\n",
       "      <th>TCGA-WA-A7H4</th>\n",
       "      <td>0</td>\n",
       "    </tr>\n",
       "  </tbody>\n",
       "</table>\n",
       "<p>487 rows × 1 columns</p>\n",
       "</div>"
      ],
      "text/plain": [
       "              hpv\n",
       "TCGA-4P-AA8J    0\n",
       "TCGA-BA-4074    0\n",
       "TCGA-BA-4076    0\n",
       "TCGA-BA-4078    0\n",
       "TCGA-BA-5149    0\n",
       "...           ...\n",
       "TCGA-UF-A7JT    0\n",
       "TCGA-UF-A7JV    0\n",
       "TCGA-UP-A6WW    1\n",
       "TCGA-WA-A7GZ    0\n",
       "TCGA-WA-A7H4    0\n",
       "\n",
       "[487 rows x 1 columns]"
      ]
     },
     "execution_count": 95,
     "metadata": {},
     "output_type": "execute_result"
    }
   ],
   "source": [
    "clinical = pd.read_table(phenotype_url)\n",
    "clinical = clinical.drop([0, 1, 2, 3])\n",
    "clinical = clinical.set_index('#Patient Identifier')\n",
    "traits = clinical[['Subtype']].copy()\n",
    "traits.index.name = None\n",
    "traits.columns = ['hpv']\n",
    "traits = traits.dropna()\n",
    "traits.hpv = traits.hpv.replace({'HNSC_HPV-': 0, 'HNSC_HPV+': 1})\n",
    "traits"
   ]
  },
  {
   "cell_type": "code",
   "execution_count": 96,
   "metadata": {},
   "outputs": [
    {
     "name": "stdout",
     "output_type": "stream",
     "text": [
      "Filtered out 29288 samples\n"
     ]
    }
   ],
   "source": [
    "m0 = len(mutations)\n",
    "mutations = mutations[(mutations['Variant_Classification'] != 'Silent')]\n",
    "m1 = len(mutations)\n",
    "mutations = mutations[(mutations['IMPACT'] != 'LOW')]\n",
    "m2 = len(mutations)\n",
    "print(f'Filtered out {m0-m2} samples')\n",
    "logbook.log(f'Filtered out {m0-m2} samples', 'filtering')"
   ]
  },
  {
   "cell_type": "code",
   "execution_count": 97,
   "metadata": {},
   "outputs": [],
   "source": [
    "mutated_genes = pd.read_csv(root_dir / cancer / 'Mutated_Genes.txt', delimiter='\\t')\n",
    "mutated_genes['Freq'] = mutated_genes['Freq'].str[:-1].astype(float)"
   ]
  },
  {
   "cell_type": "code",
   "execution_count": 98,
   "metadata": {},
   "outputs": [],
   "source": [
    "mutations['Barcode'] = mutations['Tumor_Sample_Barcode'].str[:-3]"
   ]
  },
  {
   "cell_type": "code",
   "execution_count": 99,
   "metadata": {},
   "outputs": [],
   "source": [
    "mutation_matrix = pd.DataFrame(columns=set(mutations['Hugo_Symbol']), index = traits.index).fillna(0)"
   ]
  },
  {
   "cell_type": "code",
   "execution_count": 100,
   "metadata": {},
   "outputs": [],
   "source": [
    "for patient_id in traits.index:\n",
    "    for m in set(mutations[mutations.Barcode == patient_id]['Hugo_Symbol']):\n",
    "        mutation_matrix.loc[patient_id, m] = 1"
   ]
  },
  {
   "cell_type": "code",
   "execution_count": 101,
   "metadata": {},
   "outputs": [],
   "source": [
    "rnaseq.index = rnaseq['Hugo_Symbol']\n",
    "rnaseq = rnaseq.drop(['Hugo_Symbol', 'Entrez_Gene_Id'], axis=1)\n",
    "rnaseq.columns = rnaseq.columns.str[:-3]\n",
    "rnaseq = rnaseq[rnaseq.index.notnull()].dropna().drop_duplicates()\n",
    "rnaseq = rnaseq[~rnaseq.index.duplicated(keep='first')]\n",
    "rnaseq = rnaseq.loc[:,~rnaseq.columns.duplicated()]\n",
    "rnaseq.index.name = None"
   ]
  },
  {
   "cell_type": "code",
   "execution_count": 102,
   "metadata": {},
   "outputs": [],
   "source": [
    "expression_cutoff = 100\n",
    "rnaseq = rnaseq[rnaseq.mean(1) > expression_cutoff]\n",
    "logbook.log_param('expression_cutoff', expression_cutoff)"
   ]
  },
  {
   "cell_type": "code",
   "execution_count": 103,
   "metadata": {},
   "outputs": [],
   "source": [
    "mutation_matrix = mutation_matrix[set(mutated_genes.query('Freq > 5').sort_values(by='Freq', ascending=False).Gene) & set(mutations['Hugo_Symbol'])]"
   ]
  },
  {
   "cell_type": "code",
   "execution_count": 104,
   "metadata": {},
   "outputs": [],
   "source": [
    "rnaseq = np.log2(rnaseq + 1)"
   ]
  },
  {
   "cell_type": "code",
   "execution_count": 105,
   "metadata": {},
   "outputs": [],
   "source": [
    "rnaseq = rnaseq[~(rnaseq.var(1) < 0.1)]"
   ]
  },
  {
   "cell_type": "code",
   "execution_count": 106,
   "metadata": {},
   "outputs": [],
   "source": [
    "from collections import namedtuple\n",
    "from scipy.stats import ttest_ind as ttest\n",
    "\n",
    "Result = namedtuple('Result', ['hpv_positive', 'hpv_negative', 'pvalue'])\n",
    "\n",
    "def compare(gene, df=rnaseq):\n",
    "\n",
    "    hpv_p = df.loc[gene][traits[traits.hpv == 1].index]\n",
    "    hpv_n = df.loc[gene][traits[traits.hpv == 0].index]\n",
    "\n",
    "    hpv_p_mean = hpv_p.mean()\n",
    "    hpv_p_std = hpv_p.std()\n",
    "\n",
    "    hpv_n_mean = hpv_n.mean()\n",
    "    hpv_n_std = hpv_n.std()\n",
    "\n",
    "    pvalue = ttest(hpv_p, hpv_n).pvalue\n",
    "\n",
    "    # return Result([hpv_p_mean, hpv_p_std], [hpv_n_mean, hpv_n_std], pvalue)\n",
    "    return pvalue\n"
   ]
  },
  {
   "cell_type": "code",
   "execution_count": 120,
   "metadata": {},
   "outputs": [
    {
     "data": {
      "text/plain": [
       "1.3064058052599494e-09"
      ]
     },
     "execution_count": 120,
     "metadata": {},
     "output_type": "execute_result"
    }
   ],
   "source": [
    "compare('NSD1')"
   ]
  },
  {
   "cell_type": "code",
   "execution_count": 107,
   "metadata": {},
   "outputs": [
    {
     "data": {
      "application/vnd.jupyter.widget-view+json": {
       "model_id": "4f24f06e46404e338a461572c48d9bd8",
       "version_major": 2,
       "version_minor": 0
      },
      "text/plain": [
       "SUBMITTING | :   0%|          | 0/12295 [00:00<?, ?it/s]"
      ]
     },
     "metadata": {},
     "output_type": "display_data"
    },
    {
     "data": {
      "application/vnd.jupyter.widget-view+json": {
       "model_id": "ed7e41c5a6124e3885ebbdadcb364e52",
       "version_major": 2,
       "version_minor": 0
      },
      "text/plain": [
       "PROCESSING | :   0%|          | 0/12295 [00:00<?, ?it/s]"
      ]
     },
     "metadata": {},
     "output_type": "display_data"
    },
    {
     "data": {
      "application/vnd.jupyter.widget-view+json": {
       "model_id": "80341095a2d2448f933c8fc77d2c6dd6",
       "version_major": 2,
       "version_minor": 0
      },
      "text/plain": [
       "COLLECTING | :   0%|          | 0/12295 [00:00<?, ?it/s]"
      ]
     },
     "metadata": {},
     "output_type": "display_data"
    }
   ],
   "source": [
    "pvals = pqdm(rnaseq.index, compare, 20)"
   ]
  },
  {
   "cell_type": "code",
   "execution_count": 108,
   "metadata": {},
   "outputs": [],
   "source": [
    "top_diff_expr_genes = 5000\n",
    "rnaseq = rnaseq.loc[pd.DataFrame(pvals, index=rnaseq.index).sort_values(by=0)[:top_diff_expr_genes].index]\n",
    "logbook.log_param('top_diff_expr_genes', top_diff_expr_genes)"
   ]
  },
  {
   "cell_type": "code",
   "execution_count": 109,
   "metadata": {},
   "outputs": [],
   "source": [
    "common_samples = set(rnaseq.columns) & set(mutation_matrix.index)\n",
    "rnaseq = rnaseq[common_samples]\n",
    "mutation_matrix = mutation_matrix.loc[common_samples]\n",
    "\n",
    "traits = traits.loc[set(mutation_matrix.index) & set(traits.index)].astype(int)\n",
    "mutation_matrix = mutation_matrix.loc[set(mutation_matrix.index) & set(traits.index)].astype(int)\n",
    "rnaseq = rnaseq[set(mutation_matrix.index) & set(traits.index)]"
   ]
  },
  {
   "cell_type": "code",
   "execution_count": 110,
   "metadata": {},
   "outputs": [],
   "source": [
    "rnaseq = rnaseq.subtract(rnaseq.mean(1), 0).div(rnaseq.std(1), 0)"
   ]
  },
  {
   "cell_type": "code",
   "execution_count": 126,
   "metadata": {},
   "outputs": [
    {
     "data": {
      "text/plain": [
       "((5000, 487), (487, 1), (487, 116))"
      ]
     },
     "execution_count": 126,
     "metadata": {},
     "output_type": "execute_result"
    }
   ],
   "source": [
    "rnaseq.shape, traits.shape, mutation_matrix.shape"
   ]
  },
  {
   "cell_type": "code",
   "execution_count": 112,
   "metadata": {},
   "outputs": [
    {
     "data": {
      "text/plain": [
       "((487, 1), (487, 5000), (487, 116))"
      ]
     },
     "execution_count": 112,
     "metadata": {},
     "output_type": "execute_result"
    }
   ],
   "source": [
    "Z = traits.to_numpy()\n",
    "Y = rnaseq.T.to_numpy()\n",
    "X = mutation_matrix.to_numpy()\n",
    "\n",
    "Z.shape, Y.shape, X.shape"
   ]
  },
  {
   "cell_type": "code",
   "execution_count": 113,
   "metadata": {},
   "outputs": [
    {
     "name": "stdout",
     "output_type": "stream",
     "text": [
      "1 traits\n",
      "487 samples,\n",
      "5000 genes\n",
      "116 mutations\n"
     ]
    }
   ],
   "source": [
    "r = Z.shape[1]\n",
    "n = X.shape[0]\n",
    "q = Y.shape[1]\n",
    "p = X.shape[1]\n",
    "assert X.shape[0]==Z.shape[0]\n",
    "assert Y.shape[0]<=n\n",
    "\n",
    "print(f'{r} traits\\n{n} samples,\\n{q} genes\\n{p} mutations')"
   ]
  },
  {
   "cell_type": "code",
   "execution_count": 114,
   "metadata": {},
   "outputs": [],
   "source": [
    "logbook.log_param('matrices', {'traits': r, 'samples': n, 'genes': q, 'mutations': p})"
   ]
  },
  {
   "cell_type": "code",
   "execution_count": 115,
   "metadata": {},
   "outputs": [
    {
     "data": {
      "text/plain": [
       "PosixPath('/ihome/hosmanbeyoglu/kor11/tools/PerturbNet/TCGA/HNSC')"
      ]
     },
     "execution_count": 115,
     "metadata": {},
     "output_type": "execute_result"
    }
   ],
   "source": [
    "root_dir / cancer"
   ]
  },
  {
   "cell_type": "code",
   "execution_count": 116,
   "metadata": {},
   "outputs": [],
   "source": [
    "np.savetxt(root_dir / cancer / 'traits.txt', Z, delimiter='\\t', fmt='%s')\n",
    "np.savetxt(root_dir / cancer / 'expression.txt', Y, delimiter='\\t', fmt='%s')\n",
    "np.savetxt(root_dir / cancer / 'genotype.txt', X, delimiter='\\t', fmt='%s')\n",
    "traits.to_csv(root_dir / cancer / 'traits_data.csv')\n",
    "mutation_matrix.to_csv(root_dir / cancer / 'mutations_data.csv')\n",
    "rnaseq.to_csv(root_dir / cancer / 'rnaseq_data.csv')\n",
    "logbook.log_param('timestamp', datetime.datetime.now().strftime(\"%m/%d/%Y, %H:%M:%S\"))"
   ]
  },
  {
   "cell_type": "code",
   "execution_count": 117,
   "metadata": {},
   "outputs": [
    {
     "name": "stdout",
     "output_type": "stream",
     "text": [
      "Saved params to /ihome/hosmanbeyoglu/kor11/tools/PerturbNet/TCGA/HNSC/nb_params.json\n"
     ]
    }
   ],
   "source": [
    "import json\n",
    "\n",
    "with open(root_dir / cancer / 'nb_params.json', 'w') as f:\n",
    "    f.write(json.dumps(logbook.params))\n",
    "    \n",
    "print(f'Saved params to {root_dir / cancer / \"nb_params.json\"}')"
   ]
  },
  {
   "cell_type": "code",
   "execution_count": null,
   "metadata": {},
   "outputs": [],
   "source": []
  }
 ],
 "metadata": {
  "interpreter": {
   "hash": "cc532ab1b2bca3194cde93ffb2ee92c9793321ca137f6d4bb70fcb3f021f7f29"
  },
  "kernelspec": {
   "display_name": "Python 3",
   "language": "python",
   "name": "python3"
  },
  "language_info": {
   "codemirror_mode": {
    "name": "ipython",
    "version": 3
   },
   "file_extension": ".py",
   "mimetype": "text/x-python",
   "name": "python",
   "nbconvert_exporter": "python",
   "pygments_lexer": "ipython3",
   "version": "3.7.0"
  },
  "toc": {
   "base_numbering": 1,
   "nav_menu": {},
   "number_sections": true,
   "sideBar": true,
   "skip_h1_title": false,
   "title_cell": "Table of Contents",
   "title_sidebar": "Contents",
   "toc_cell": false,
   "toc_position": {},
   "toc_section_display": true,
   "toc_window_display": false
  },
  "varInspector": {
   "cols": {
    "lenName": 16,
    "lenType": 16,
    "lenVar": 40
   },
   "kernels_config": {
    "python": {
     "delete_cmd_postfix": "",
     "delete_cmd_prefix": "del ",
     "library": "var_list.py",
     "varRefreshCmd": "print(var_dic_list())"
    },
    "r": {
     "delete_cmd_postfix": ") ",
     "delete_cmd_prefix": "rm(",
     "library": "var_list.r",
     "varRefreshCmd": "cat(var_dic_list()) "
    }
   },
   "types_to_exclude": [
    "module",
    "function",
    "builtin_function_or_method",
    "instance",
    "_Feature"
   ],
   "window_display": false
  }
 },
 "nbformat": 4,
 "nbformat_minor": 4
}
